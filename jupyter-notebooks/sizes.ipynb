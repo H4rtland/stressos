{
 "cells": [
  {
   "cell_type": "code",
   "execution_count": 1,
   "metadata": {
    "collapsed": true
   },
   "outputs": [],
   "source": [
    "import numpy as np\n",
    "import pandas as pd\n",
    "import matplotlib.pyplot as plt\n",
    "from matplotlib.ticker import FuncFormatter\n",
    "%matplotlib inline\n",
    "#plt.style.use('seaborn')\n",
    "\n",
    "from pandas import *\n",
    "from pandas.io.parsers import read_csv"
   ]
  },
  {
   "cell_type": "code",
   "execution_count": 2,
   "metadata": {},
   "outputs": [
    {
     "data": {
      "text/plain": [
       "623717"
      ]
     },
     "execution_count": 2,
     "metadata": {},
     "output_type": "execute_result"
    }
   ],
   "source": [
    "lancs = read_csv('lancs-es.csv', index_col=False, header=None)\n",
    "mwt2 = read_csv('mwt2-es.csv', index_col=False, header=None)\n",
    "cern = read_csv('cern-es.csv', index_col=False, header=None)\n",
    "bnl = read_csv('bnl_es.csv', index_col=False, header=None)\n",
    "#lancs.describe().loc[['count','sum','mean','std']]\n",
    "#mwt2.describe().loc[['count','sum','mean','std']]\n",
    "#cern.describe().loc[['count','sum','mean','std']]\n",
    "len(lancs)\n",
    "len(mwt2)\n",
    "len(cern)"
   ]
  },
  {
   "cell_type": "code",
   "execution_count": 3,
   "metadata": {},
   "outputs": [
    {
     "data": {
      "text/plain": [
       "0    304.032389\n",
       "dtype: float64"
      ]
     },
     "execution_count": 3,
     "metadata": {},
     "output_type": "execute_result"
    }
   ],
   "source": [
    "cs=cern[(cern<5e6)].dropna()\n",
    "cs.sum()/1e9"
   ]
  },
  {
   "cell_type": "code",
   "execution_count": 8,
   "metadata": {},
   "outputs": [
    {
     "data": {
      "image/png": "[encoded data removed]",
      "text/plain": [
       "<matplotlib.figure.Figure at 0x114418668>"
      ]
     },
     "metadata": {},
     "output_type": "display_data"
    }
   ],
   "source": [
    "def objsize(x, pos):\n",
    "    'The two args are the value and tick position'\n",
    "    return '{:1.0f}M'.format(x*1e-6)\n",
    "fig, ax = plt.subplots(figsize=(9, 6))\n",
    "bins=range(0, 300000000, 100000)\n",
    "mwt2.hist(ax=ax, bins=bins, label=['mwt2'], alpha=0.5)\n",
    "cern.hist(ax=ax, bins=bins, label=['cern'], alpha=0.5)\n",
    "lancs.hist(ax=ax, bins=bins, label=['lancs'], alpha=0.5)\n",
    "#bnl.hist(ax=ax, bins=bins, label=['bnl'], alpha=0.5)\n",
    "ax.set(title='Distribution of object sizes - June', xlabel='Object size (bytes)', ylabel='Count')\n",
    "formatter = FuncFormatter(objsize)\n",
    "ax.set_xlim([0, 5e6])\n",
    "#ax.set_yscale('log')\n",
    "ax.xaxis.set_major_formatter(formatter)\n",
    "ax.legend().set_visible(True)\n"
   ]
  }
 ],
 "metadata": {
  "kernelspec": {
   "display_name": "Python 3",
   "language": "python",
   "name": "python3"
  },
  "language_info": {
   "codemirror_mode": {
    "name": "ipython",
    "version": 3
   },
   "file_extension": ".py",
   "mimetype": "text/x-python",
   "name": "python",
   "nbconvert_exporter": "python",
   "pygments_lexer": "ipython3",
   "version": "3.6.1"
  }
 },
 "nbformat": 4,
 "nbformat_minor": 2
}
