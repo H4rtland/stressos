{
 "cells": [
  {
   "cell_type": "code",
   "execution_count": 2,
   "metadata": {
    "collapsed": true
   },
   "outputs": [],
   "source": [
    "import numpy as np\n",
    "import pandas as pd\n",
    "import matplotlib.pyplot as plt\n",
    "from matplotlib.ticker import FuncFormatter\n",
    "%matplotlib inline\n",
    "#plt.style.use('seaborn')\n",
    "\n",
    "from pandas import *\n",
    "from pandas.io.parsers import read_csv"
   ]
  },
  {
   "cell_type": "code",
   "execution_count": 4,
   "metadata": {},
   "outputs": [
    {
     "data": {
      "text/plain": [
       "0      0.994961\n",
       "1      0.427366\n",
       "2      1.052059\n",
       "3      0.378053\n",
       "4      0.410858\n",
       "5      0.401752\n",
       "6      0.363257\n",
       "7      0.375299\n",
       "8      0.535919\n",
       "9      0.445106\n",
       "10     0.462141\n",
       "11     0.592257\n",
       "12     1.043263\n",
       "13     0.775022\n",
       "14     1.238216\n",
       "15     0.488930\n",
       "16     0.518059\n",
       "17     0.600923\n",
       "18     0.579301\n",
       "19     0.782252\n",
       "20     0.854812\n",
       "21     0.802187\n",
       "22     0.535856\n",
       "23     0.602070\n",
       "24     1.016569\n",
       "25     0.837249\n",
       "26     0.954549\n",
       "27     0.765651\n",
       "28     1.070147\n",
       "29     0.473768\n",
       "         ...   \n",
       "613    0.513736\n",
       "614    0.493029\n",
       "615    0.494767\n",
       "616    0.567695\n",
       "617    0.529760\n",
       "618    0.483421\n",
       "619    0.473931\n",
       "620    0.575866\n",
       "621    0.711156\n",
       "622    0.813189\n",
       "623    0.568627\n",
       "624    0.948127\n",
       "625    0.422519\n",
       "626    0.391298\n",
       "627    0.757861\n",
       "628    0.371222\n",
       "629    0.726035\n",
       "630    0.642168\n",
       "631    0.601310\n",
       "632    0.923712\n",
       "633    0.608841\n",
       "634    0.575233\n",
       "635    0.469971\n",
       "636    0.703370\n",
       "637    0.593929\n",
       "638    0.623937\n",
       "639    0.606545\n",
       "640    0.534327\n",
       "641    0.601769\n",
       "642    0.847129\n",
       "Name: Duration, Length: 643, dtype: float64"
      ]
     },
     "execution_count": 4,
     "metadata": {},
     "output_type": "execute_result"
    }
   ],
   "source": [
    "pod1 = read_csv('out-d6mb2.csv', index_col=False, header=0)\n",
    "pod2 = read_csv('out-j4jwv.csv', index_col=False, header=0)\n",
    "pod3 = read_csv('out-vllr8.csv', index_col=False, header=0)\n",
    "#lancs.describe().loc[['count','sum','mean','std']]\n",
    "#mwt2.describe().loc[['count','sum','mean','std']]\n",
    "#cern.describe().loc[['count','sum','mean','std']]\n",
    "len(pod1)\n",
    "len(pod2)\n",
    "len(pod3)\n",
    "pod1['Duration']"
   ]
  },
  {
   "cell_type": "code",
   "execution_count": 8,
   "metadata": {},
   "outputs": [
    {
     "data": {
      "image/png": "[encoded data removed]",
      "text/plain": [
       "<matplotlib.figure.Figure at 0x1175b2ef0>"
      ]
     },
     "metadata": {},
     "output_type": "display_data"
    }
   ],
   "source": [
    "def objsize(x, pos):\n",
    "    'The two args are the value and tick position'\n",
    "    return '{:0.1f}'.format(x)\n",
    "fig, ax = plt.subplots(figsize=(9, 6))\n",
    "bins=100\n",
    "myrange=(0, 2)\n",
    "pod1['Duration'].hist(ax=ax, bins=bins, label=['pod1'], alpha=0.5, range=myrange)\n",
    "pod2['Duration'].hist(ax=ax, bins=bins, label=['pod2'], alpha=0.5, range=myrange)\n",
    "pod3['Duration'].hist(ax=ax, bins=bins, label=['pod3'], alpha=0.5, range=myrange)\n",
    "ax.set(title='Distribution of transfer duration', xlabel='Duration (s)', ylabel='Count')\n",
    "formatter = FuncFormatter(objsize)\n",
    "ax.set_xlim(myrange)\n",
    "#ax.set_yscale('log')\n",
    "ax.xaxis.set_major_formatter(formatter)\n",
    "ax.legend().set_visible(True)\n"
   ]
  },
  {
   "cell_type": "code",
   "execution_count": 13,
   "metadata": {},
   "outputs": [
    {
     "data": {
      "text/plain": [
       "(643, 630, 1000)"
      ]
     },
     "execution_count": 13,
     "metadata": {},
     "output_type": "execute_result"
    }
   ],
   "source": [
    "(len(pod1),\n",
    "len(pod2),\n",
    "len(pod3))"
   ]
  },
  {
   "cell_type": "code",
   "execution_count": null,
   "metadata": {
    "collapsed": true
   },
   "outputs": [],
   "source": []
  }
 ],
 "metadata": {
  "kernelspec": {
   "display_name": "Python 3",
   "language": "python",
   "name": "python3"
  },
  "language_info": {
   "codemirror_mode": {
    "name": "ipython",
    "version": 3
   },
   "file_extension": ".py",
   "mimetype": "text/x-python",
   "name": "python",
   "nbconvert_exporter": "python",
   "pygments_lexer": "ipython3",
   "version": "3.6.1"
  }
 },
 "nbformat": 4,
 "nbformat_minor": 2
}
