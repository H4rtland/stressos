{
 "cells": [
  {
   "cell_type": "code",
   "execution_count": 1,
   "metadata": {
    "collapsed": true
   },
   "outputs": [],
   "source": [
    "import numpy as np\n",
    "import pandas as pd\n",
    "import matplotlib.pyplot as plt\n",
    "from matplotlib.ticker import FuncFormatter\n",
    "%matplotlib inline\n",
    "#plt.style.use('seaborn')\n",
    "\n",
    "from pandas import *\n",
    "from pandas.io.parsers import read_csv"
   ]
  },
  {
   "cell_type": "code",
   "execution_count": 5,
   "metadata": {},
   "outputs": [
    {
     "data": {
      "text/plain": [
       "36136"
      ]
     },
     "execution_count": 5,
     "metadata": {},
     "output_type": "execute_result"
    }
   ],
   "source": [
    "pod = read_csv('out-cern857-bnlproj.csv', index_col=False, header=0)\n",
    "#lancs.describe().loc[['count','sum','mean','std']]\n",
    "#mwt2.describe().loc[['count','sum','mean','std']]\n",
    "#cern.describe().loc[['count','sum','mean','std']]\n",
    "len(pod)"
   ]
  },
  {
   "cell_type": "code",
   "execution_count": 6,
   "metadata": {},
   "outputs": [
    {
     "data": {
      "image/png": "[encoded data removed]",
      "text/plain": [
       "<matplotlib.figure.Figure at 0x112b35f98>"
      ]
     },
     "metadata": {},
     "output_type": "display_data"
    }
   ],
   "source": [
    "def objsize(x, pos):\n",
    "    'The two args are the value and tick position'\n",
    "    return '{:0.1f}'.format(x)\n",
    "fig, ax = plt.subplots(figsize=(9, 6))\n",
    "bins=100\n",
    "myrange=(0, 2)\n",
    "pod['Duration'].hist(ax=ax, bins=bins, label=['pod'], alpha=0.5, range=myrange)\n",
    "ax.set(title='Distribution of transfer duration', xlabel='Duration (s)', ylabel='Count')\n",
    "formatter = FuncFormatter(objsize)\n",
    "ax.set_xlim(myrange)\n",
    "#ax.set_yscale('log')\n",
    "ax.xaxis.set_major_formatter(formatter)\n",
    "ax.legend().set_visible(True)\n"
   ]
  },
  {
   "cell_type": "code",
   "execution_count": null,
   "metadata": {
    "collapsed": true
   },
   "outputs": [],
   "source": []
  }
 ],
 "metadata": {
  "kernelspec": {
   "display_name": "Python 3",
   "language": "python",
   "name": "python3"
  },
  "language_info": {
   "codemirror_mode": {
    "name": "ipython",
    "version": 3
   },
   "file_extension": ".py",
   "mimetype": "text/x-python",
   "name": "python",
   "nbconvert_exporter": "python",
   "pygments_lexer": "ipython3",
   "version": "3.6.1"
  }
 },
 "nbformat": 4,
 "nbformat_minor": 2
}
